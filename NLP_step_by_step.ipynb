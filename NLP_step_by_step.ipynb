{
  "nbformat": 4,
  "nbformat_minor": 0,
  "metadata": {
    "colab": {
      "name": "NLP step by step.ipynb",
      "provenance": [],
      "collapsed_sections": []
    },
    "kernelspec": {
      "name": "python3",
      "display_name": "Python 3"
    }
  },
  "cells": [
    {
      "cell_type": "code",
      "metadata": {
        "id": "RctCzbhmw-XM",
        "colab": {
          "base_uri": "https://localhost:8080/",
          "height": 224
        },
        "outputId": "b1d88d2e-f108-416a-b40e-1f41d1219249"
      },
      "source": [
        "text_file = open(\"Natural_Language_Processing_Text.txt\")\n",
        "\n",
        "#Read the data :\n",
        "text = text_file.read()\n",
        "\n",
        "#Datatype of the data read :\n",
        "print (type(text))\n",
        "print(\"\\n\")\n",
        "\n",
        "#Print the text :\n",
        "print(text)\n",
        "print(\"\\n\")\n",
        "#Length of the text :\n",
        "print (len(text))"
      ],
      "execution_count": null,
      "outputs": [
        {
          "output_type": "stream",
          "text": [
            "<class 'str'>\n",
            "\n",
            "\n",
            "Once upon a time there was an old mother pig who had three little pigs and not enough food to feed them. So when they were old enough, she sent them out into the world to seek their fortunes.\n",
            "\n",
            "The first little pig was very lazy. He didn't want to work at all and he built his house out of straw. The second little pig worked a little bit harder but he was somewhat lazy too and he built his house out of sticks. Then, they sang and danced and played together the rest of the day.\n",
            "\n",
            "The third little pig worked hard all day and built his house with bricks. It was a sturdy house complete with a fine fireplace and chimney. It looked like it could withstand the strongest winds.\n",
            "\n",
            "\n",
            "675\n"
          ],
          "name": "stdout"
        }
      ]
    },
    {
      "cell_type": "code",
      "metadata": {
        "id": "kVogBylpxWYu",
        "colab": {
          "base_uri": "https://localhost:8080/",
          "height": 51
        },
        "outputId": "43e2be91-69a9-40f3-889b-27b32e9d4194"
      },
      "source": [
        "import nltk\n",
        "nltk.download('punkt')\n",
        "from nltk import sent_tokenize\n",
        "from nltk import word_tokenize\n",
        "from nltk.probability import FreqDist"
      ],
      "execution_count": null,
      "outputs": [
        {
          "output_type": "stream",
          "text": [
            "[nltk_data] Downloading package punkt to /root/nltk_data...\n",
            "[nltk_data]   Package punkt is already up-to-date!\n"
          ],
          "name": "stdout"
        }
      ]
    },
    {
      "cell_type": "code",
      "metadata": {
        "id": "ECjHQKXFxEql",
        "colab": {
          "base_uri": "https://localhost:8080/",
          "height": 71
        },
        "outputId": "1d46f2e5-d835-437e-e8b0-9c3432735f3c"
      },
      "source": [
        "#Tokenize the text by sentences :\n",
        "sentences=sent_tokenize(text)\n",
        "print (len(sentences))               #How many sentences \n",
        "print(sentences)"
      ],
      "execution_count": null,
      "outputs": [
        {
          "output_type": "stream",
          "text": [
            "9\n",
            "['Once upon a time there was an old mother pig who had three little pigs and not enough food to feed them.', 'So when they were old enough, she sent them out into the world to seek their fortunes.', 'The first little pig was very lazy.', \"He didn't want to work at all and he built his house out of straw.\", 'The second little pig worked a little bit harder but he was somewhat lazy too and he built his house out of sticks.', 'Then, they sang and danced and played together the rest of the day.', 'The third little pig worked hard all day and built his house with bricks.', 'It was a sturdy house complete with a fine fireplace and chimney.', 'It looked like it could withstand the strongest winds.']\n"
          ],
          "name": "stdout"
        }
      ]
    },
    {
      "cell_type": "code",
      "metadata": {
        "id": "arYKkUCR6of4",
        "colab": {
          "base_uri": "https://localhost:8080/",
          "height": 105
        },
        "outputId": "95d0d001-803c-46ba-a29d-027396e58c89"
      },
      "source": [
        "#Tokenize the text with words :\n",
        "words = word_tokenize(text)\n",
        "print (len(words))\n",
        "print(\"\\n\")\n",
        "print (words)\n"
      ],
      "execution_count": null,
      "outputs": [
        {
          "output_type": "stream",
          "text": [
            "144\n",
            "\n",
            "\n",
            "['Once', 'upon', 'a', 'time', 'there', 'was', 'an', 'old', 'mother', 'pig', 'who', 'had', 'three', 'little', 'pigs', 'and', 'not', 'enough', 'food', 'to', 'feed', 'them', '.', 'So', 'when', 'they', 'were', 'old', 'enough', ',', 'she', 'sent', 'them', 'out', 'into', 'the', 'world', 'to', 'seek', 'their', 'fortunes', '.', 'The', 'first', 'little', 'pig', 'was', 'very', 'lazy', '.', 'He', 'did', \"n't\", 'want', 'to', 'work', 'at', 'all', 'and', 'he', 'built', 'his', 'house', 'out', 'of', 'straw', '.', 'The', 'second', 'little', 'pig', 'worked', 'a', 'little', 'bit', 'harder', 'but', 'he', 'was', 'somewhat', 'lazy', 'too', 'and', 'he', 'built', 'his', 'house', 'out', 'of', 'sticks', '.', 'Then', ',', 'they', 'sang', 'and', 'danced', 'and', 'played', 'together', 'the', 'rest', 'of', 'the', 'day', '.', 'The', 'third', 'little', 'pig', 'worked', 'hard', 'all', 'day', 'and', 'built', 'his', 'house', 'with', 'bricks', '.', 'It', 'was', 'a', 'sturdy', 'house', 'complete', 'with', 'a', 'fine', 'fireplace', 'and', 'chimney', '.', 'It', 'looked', 'like', 'it', 'could', 'withstand', 'the', 'strongest', 'winds', '.']\n"
          ],
          "name": "stdout"
        }
      ]
    },
    {
      "cell_type": "code",
      "metadata": {
        "id": "suHckJnx6wVZ",
        "colab": {
          "base_uri": "https://localhost:8080/",
          "height": 187
        },
        "outputId": "5405fd91-8541-4e61-8a52-5042c89b5578"
      },
      "source": [
        "fdist = FreqDist(words)\n",
        "\n",
        "#Print 10 most common words :\n",
        "fdist.most_common(10)\n"
      ],
      "execution_count": null,
      "outputs": [
        {
          "output_type": "execute_result",
          "data": {
            "text/plain": [
              "[('.', 9),\n",
              " ('and', 7),\n",
              " ('little', 5),\n",
              " ('a', 4),\n",
              " ('was', 4),\n",
              " ('pig', 4),\n",
              " ('the', 4),\n",
              " ('house', 4),\n",
              " ('to', 3),\n",
              " ('out', 3)]"
            ]
          },
          "metadata": {
            "tags": []
          },
          "execution_count": 8
        }
      ]
    },
    {
      "cell_type": "code",
      "metadata": {
        "id": "j6gtXaRv69CC"
      },
      "source": [
        "#Empty list to store words:\n",
        "words_no_punc = []"
      ],
      "execution_count": null,
      "outputs": []
    },
    {
      "cell_type": "code",
      "metadata": {
        "id": "M7hE7SAD7GuU",
        "colab": {
          "base_uri": "https://localhost:8080/",
          "height": 105
        },
        "outputId": "d66ec8c1-7ae3-4d99-dcd8-22b5112d37fb"
      },
      "source": [
        "#Removing punctuation marks :\n",
        "for w in words:\n",
        "    if w.isalpha():\n",
        "        words_no_punc.append(w.lower())\n",
        "\n",
        "#Print the words without punctution marks :\n",
        "print (words_no_punc)\n",
        "\n",
        "print (\"\\n\")\n",
        "\n",
        "#Length :\n",
        "print (len(words_no_punc))"
      ],
      "execution_count": null,
      "outputs": [
        {
          "output_type": "stream",
          "text": [
            "['once', 'upon', 'a', 'time', 'there', 'was', 'an', 'old', 'mother', 'pig', 'who', 'had', 'three', 'little', 'pigs', 'and', 'not', 'enough', 'food', 'to', 'feed', 'them', 'so', 'when', 'they', 'were', 'old', 'enough', 'she', 'sent', 'them', 'out', 'into', 'the', 'world', 'to', 'seek', 'their', 'fortunes', 'the', 'first', 'little', 'pig', 'was', 'very', 'lazy', 'he', 'did', 'want', 'to', 'work', 'at', 'all', 'and', 'he', 'built', 'his', 'house', 'out', 'of', 'straw', 'the', 'second', 'little', 'pig', 'worked', 'a', 'little', 'bit', 'harder', 'but', 'he', 'was', 'somewhat', 'lazy', 'too', 'and', 'he', 'built', 'his', 'house', 'out', 'of', 'sticks', 'then', 'they', 'sang', 'and', 'danced', 'and', 'played', 'together', 'the', 'rest', 'of', 'the', 'day', 'the', 'third', 'little', 'pig', 'worked', 'hard', 'all', 'day', 'and', 'built', 'his', 'house', 'with', 'bricks', 'it', 'was', 'a', 'sturdy', 'house', 'complete', 'with', 'a', 'fine', 'fireplace', 'and', 'chimney', 'it', 'looked', 'like', 'it', 'could', 'withstand', 'the', 'strongest', 'winds']\n",
            "\n",
            "\n",
            "132\n"
          ],
          "name": "stdout"
        }
      ]
    },
    {
      "cell_type": "code",
      "metadata": {
        "id": "eZU-2FgD7QkY",
        "colab": {
          "base_uri": "https://localhost:8080/",
          "height": 187
        },
        "outputId": "0ebd76e1-b9c9-489d-81df-979cef7d48a3"
      },
      "source": [
        "fdist = FreqDist(words_no_punc)\n",
        "\n",
        "fdist.most_common(10)\n"
      ],
      "execution_count": null,
      "outputs": [
        {
          "output_type": "execute_result",
          "data": {
            "text/plain": [
              "[('and', 7),\n",
              " ('the', 7),\n",
              " ('little', 5),\n",
              " ('a', 4),\n",
              " ('was', 4),\n",
              " ('pig', 4),\n",
              " ('he', 4),\n",
              " ('house', 4),\n",
              " ('to', 3),\n",
              " ('out', 3)]"
            ]
          },
          "metadata": {
            "tags": []
          },
          "execution_count": 11
        }
      ]
    },
    {
      "cell_type": "code",
      "metadata": {
        "id": "CSHe9SNN8EFC",
        "colab": {
          "base_uri": "https://localhost:8080/",
          "height": 51
        },
        "outputId": "1f6827f5-9789-490b-82c8-3a4d42991734"
      },
      "source": [
        "nltk.download('stopwords')\n",
        "from nltk.corpus import stopwords"
      ],
      "execution_count": null,
      "outputs": [
        {
          "output_type": "stream",
          "text": [
            "[nltk_data] Downloading package stopwords to /root/nltk_data...\n",
            "[nltk_data]   Unzipping corpora/stopwords.zip.\n"
          ],
          "name": "stdout"
        }
      ]
    },
    {
      "cell_type": "code",
      "metadata": {
        "id": "xWLGq1E67UBx",
        "colab": {
          "base_uri": "https://localhost:8080/",
          "height": 54
        },
        "outputId": "4ddca2c7-d79a-4831-8d46-a63449c3e1d3"
      },
      "source": [
        "#List of stopwords\n",
        "stopwords = stopwords.words(\"english\")\n",
        "print(stopwords)\n"
      ],
      "execution_count": null,
      "outputs": [
        {
          "output_type": "stream",
          "text": [
            "['i', 'me', 'my', 'myself', 'we', 'our', 'ours', 'ourselves', 'you', \"you're\", \"you've\", \"you'll\", \"you'd\", 'your', 'yours', 'yourself', 'yourselves', 'he', 'him', 'his', 'himself', 'she', \"she's\", 'her', 'hers', 'herself', 'it', \"it's\", 'its', 'itself', 'they', 'them', 'their', 'theirs', 'themselves', 'what', 'which', 'who', 'whom', 'this', 'that', \"that'll\", 'these', 'those', 'am', 'is', 'are', 'was', 'were', 'be', 'been', 'being', 'have', 'has', 'had', 'having', 'do', 'does', 'did', 'doing', 'a', 'an', 'the', 'and', 'but', 'if', 'or', 'because', 'as', 'until', 'while', 'of', 'at', 'by', 'for', 'with', 'about', 'against', 'between', 'into', 'through', 'during', 'before', 'after', 'above', 'below', 'to', 'from', 'up', 'down', 'in', 'out', 'on', 'off', 'over', 'under', 'again', 'further', 'then', 'once', 'here', 'there', 'when', 'where', 'why', 'how', 'all', 'any', 'both', 'each', 'few', 'more', 'most', 'other', 'some', 'such', 'no', 'nor', 'not', 'only', 'own', 'same', 'so', 'than', 'too', 'very', 's', 't', 'can', 'will', 'just', 'don', \"don't\", 'should', \"should've\", 'now', 'd', 'll', 'm', 'o', 're', 've', 'y', 'ain', 'aren', \"aren't\", 'couldn', \"couldn't\", 'didn', \"didn't\", 'doesn', \"doesn't\", 'hadn', \"hadn't\", 'hasn', \"hasn't\", 'haven', \"haven't\", 'isn', \"isn't\", 'ma', 'mightn', \"mightn't\", 'mustn', \"mustn't\", 'needn', \"needn't\", 'shan', \"shan't\", 'shouldn', \"shouldn't\", 'wasn', \"wasn't\", 'weren', \"weren't\", 'won', \"won't\", 'wouldn', \"wouldn't\"]\n"
          ],
          "name": "stdout"
        }
      ]
    },
    {
      "cell_type": "code",
      "metadata": {
        "id": "VM3dS2hv8HZE",
        "colab": {
          "base_uri": "https://localhost:8080/",
          "height": 275
        },
        "outputId": "83f9afd8-6ff3-4f40-a6c4-99a5b4dba8a1"
      },
      "source": [
        "clean_words = []\n",
        "for w in words_no_punc:\n",
        "    if w not in stopwords:\n",
        "        clean_words.append(w)\n",
        "        \n",
        "print(clean_words)\n",
        "print(\"\\n\")\n",
        "print(len(clean_words))\n",
        "\n",
        "#Frequency distribution :\n",
        "fdist = FreqDist(clean_words)\n",
        "\n",
        "fdist.most_common(10)\n"
      ],
      "execution_count": null,
      "outputs": [
        {
          "output_type": "stream",
          "text": [
            "['upon', 'time', 'old', 'mother', 'pig', 'three', 'little', 'pigs', 'enough', 'food', 'feed', 'old', 'enough', 'sent', 'world', 'seek', 'fortunes', 'first', 'little', 'pig', 'lazy', 'want', 'work', 'built', 'house', 'straw', 'second', 'little', 'pig', 'worked', 'little', 'bit', 'harder', 'somewhat', 'lazy', 'built', 'house', 'sticks', 'sang', 'danced', 'played', 'together', 'rest', 'day', 'third', 'little', 'pig', 'worked', 'hard', 'day', 'built', 'house', 'bricks', 'sturdy', 'house', 'complete', 'fine', 'fireplace', 'chimney', 'looked', 'like', 'could', 'withstand', 'strongest', 'winds']\n",
            "\n",
            "\n",
            "65\n"
          ],
          "name": "stdout"
        },
        {
          "output_type": "execute_result",
          "data": {
            "text/plain": [
              "[('little', 5),\n",
              " ('pig', 4),\n",
              " ('house', 4),\n",
              " ('built', 3),\n",
              " ('old', 2),\n",
              " ('enough', 2),\n",
              " ('lazy', 2),\n",
              " ('worked', 2),\n",
              " ('day', 2),\n",
              " ('upon', 1)]"
            ]
          },
          "metadata": {
            "tags": []
          },
          "execution_count": 14
        }
      ]
    },
    {
      "cell_type": "code",
      "metadata": {
        "id": "l_YGMKd-8PSI",
        "colab": {
          "base_uri": "https://localhost:8080/",
          "height": 366
        },
        "outputId": "0f0b96e2-38d4-4631-d3c9-75fecc488d1c"
      },
      "source": [
        "from wordcloud import WordCloud\n",
        "\n",
        "#Library to plot the wordcloud :\n",
        "import matplotlib.pyplot as plt\n",
        "\n",
        "#Generating the wordcloud :\n",
        "wordcloud = WordCloud().generate(text)\n",
        "\n",
        "#Plot the wordcloud :\n",
        "plt.figure(figsize = (12, 12)) \n",
        "plt.imshow(wordcloud) \n",
        "\n",
        "#To remove the axis value :\n",
        "plt.axis(\"off\") \n",
        "plt.show()\n"
      ],
      "execution_count": null,
      "outputs": [
        {
          "output_type": "display_data",
          "data": {
            "image/png": "[encoded data removed]",
            "text/plain": [
              "<Figure size 864x864 with 1 Axes>"
            ]
          },
          "metadata": {
            "tags": [],
            "needs_background": "light"
          }
        }
      ]
    },
    {
      "cell_type": "markdown",
      "metadata": {
        "id": "H88Ika1Z8k_Y"
      },
      "source": [
        "**stemming**"
      ]
    },
    {
      "cell_type": "code",
      "metadata": {
        "id": "Q8lnyhRc8caS"
      },
      "source": [
        "from nltk.stem import PorterStemmer\n",
        "porter = PorterStemmer()"
      ],
      "execution_count": null,
      "outputs": []
    },
    {
      "cell_type": "code",
      "metadata": {
        "id": "kl4nDieT8yOw",
        "colab": {
          "base_uri": "https://localhost:8080/",
          "height": 1000
        },
        "outputId": "0633275a-ee5c-4795-a2b5-9b67648c32ca"
      },
      "source": [
        "#Word-list for stemming :\n",
        "#word_list = [\"Study\",\"Studying\",\"Studies\",\"Studied\"]\n",
        "stemmed_word=[]\n",
        "for w in words_no_punc:\n",
        "    print(porter.stem(w))\n",
        "    stemmed_word.append(w)"
      ],
      "execution_count": null,
      "outputs": [
        {
          "output_type": "stream",
          "text": [
            "onc\n",
            "upon\n",
            "a\n",
            "time\n",
            "there\n",
            "wa\n",
            "an\n",
            "old\n",
            "mother\n",
            "pig\n",
            "who\n",
            "had\n",
            "three\n",
            "littl\n",
            "pig\n",
            "and\n",
            "not\n",
            "enough\n",
            "food\n",
            "to\n",
            "feed\n",
            "them\n",
            "so\n",
            "when\n",
            "they\n",
            "were\n",
            "old\n",
            "enough\n",
            "she\n",
            "sent\n",
            "them\n",
            "out\n",
            "into\n",
            "the\n",
            "world\n",
            "to\n",
            "seek\n",
            "their\n",
            "fortun\n",
            "the\n",
            "first\n",
            "littl\n",
            "pig\n",
            "wa\n",
            "veri\n",
            "lazi\n",
            "he\n",
            "did\n",
            "want\n",
            "to\n",
            "work\n",
            "at\n",
            "all\n",
            "and\n",
            "he\n",
            "built\n",
            "hi\n",
            "hous\n",
            "out\n",
            "of\n",
            "straw\n",
            "the\n",
            "second\n",
            "littl\n",
            "pig\n",
            "work\n",
            "a\n",
            "littl\n",
            "bit\n",
            "harder\n",
            "but\n",
            "he\n",
            "wa\n",
            "somewhat\n",
            "lazi\n",
            "too\n",
            "and\n",
            "he\n",
            "built\n",
            "hi\n",
            "hous\n",
            "out\n",
            "of\n",
            "stick\n",
            "then\n",
            "they\n",
            "sang\n",
            "and\n",
            "danc\n",
            "and\n",
            "play\n",
            "togeth\n",
            "the\n",
            "rest\n",
            "of\n",
            "the\n",
            "day\n",
            "the\n",
            "third\n",
            "littl\n",
            "pig\n",
            "work\n",
            "hard\n",
            "all\n",
            "day\n",
            "and\n",
            "built\n",
            "hi\n",
            "hous\n",
            "with\n",
            "brick\n",
            "it\n",
            "wa\n",
            "a\n",
            "sturdi\n",
            "hous\n",
            "complet\n",
            "with\n",
            "a\n",
            "fine\n",
            "fireplac\n",
            "and\n",
            "chimney\n",
            "it\n",
            "look\n",
            "like\n",
            "it\n",
            "could\n",
            "withstand\n",
            "the\n",
            "strongest\n",
            "wind\n"
          ],
          "name": "stdout"
        }
      ]
    },
    {
      "cell_type": "markdown",
      "metadata": {
        "id": "vfJzn5um96zk"
      },
      "source": [
        "**lemmatization**"
      ]
    },
    {
      "cell_type": "code",
      "metadata": {
        "id": "LObtJHxs92jQ",
        "colab": {
          "base_uri": "https://localhost:8080/",
          "height": 68
        },
        "outputId": "064d80b0-5d49-4662-cc72-b432f8b7b6eb"
      },
      "source": [
        "from nltk import WordNetLemmatizer\n",
        "nltk.download('wordnet')"
      ],
      "execution_count": null,
      "outputs": [
        {
          "output_type": "stream",
          "text": [
            "[nltk_data] Downloading package wordnet to /root/nltk_data...\n",
            "[nltk_data]   Unzipping corpora/wordnet.zip.\n"
          ],
          "name": "stdout"
        },
        {
          "output_type": "execute_result",
          "data": {
            "text/plain": [
              "True"
            ]
          },
          "metadata": {
            "tags": []
          },
          "execution_count": 18
        }
      ]
    },
    {
      "cell_type": "code",
      "metadata": {
        "id": "XOWR46tM-B7t",
        "colab": {
          "base_uri": "https://localhost:8080/",
          "height": 1000
        },
        "outputId": "f1c873b9-cb11-4f35-d2dc-ad8c0e085c0d"
      },
      "source": [
        "lemma = WordNetLemmatizer()\n",
        "lemmatize=[]\n",
        "for w in stemmed_word:\n",
        "    print(lemma.lemmatize(w ,pos=\"v\"))\n",
        "    lemmatize.append(w)"
      ],
      "execution_count": null,
      "outputs": [
        {
          "output_type": "stream",
          "text": [
            "once\n",
            "upon\n",
            "a\n",
            "time\n",
            "there\n",
            "be\n",
            "an\n",
            "old\n",
            "mother\n",
            "pig\n",
            "who\n",
            "have\n",
            "three\n",
            "little\n",
            "pig\n",
            "and\n",
            "not\n",
            "enough\n",
            "food\n",
            "to\n",
            "fee\n",
            "them\n",
            "so\n",
            "when\n",
            "they\n",
            "be\n",
            "old\n",
            "enough\n",
            "she\n",
            "send\n",
            "them\n",
            "out\n",
            "into\n",
            "the\n",
            "world\n",
            "to\n",
            "seek\n",
            "their\n",
            "fortunes\n",
            "the\n",
            "first\n",
            "little\n",
            "pig\n",
            "be\n",
            "very\n",
            "lazy\n",
            "he\n",
            "do\n",
            "want\n",
            "to\n",
            "work\n",
            "at\n",
            "all\n",
            "and\n",
            "he\n",
            "build\n",
            "his\n",
            "house\n",
            "out\n",
            "of\n",
            "straw\n",
            "the\n",
            "second\n",
            "little\n",
            "pig\n",
            "work\n",
            "a\n",
            "little\n",
            "bite\n",
            "harder\n",
            "but\n",
            "he\n",
            "be\n",
            "somewhat\n",
            "lazy\n",
            "too\n",
            "and\n",
            "he\n",
            "build\n",
            "his\n",
            "house\n",
            "out\n",
            "of\n",
            "stick\n",
            "then\n",
            "they\n",
            "sing\n",
            "and\n",
            "dance\n",
            "and\n",
            "play\n",
            "together\n",
            "the\n",
            "rest\n",
            "of\n",
            "the\n",
            "day\n",
            "the\n",
            "third\n",
            "little\n",
            "pig\n",
            "work\n",
            "hard\n",
            "all\n",
            "day\n",
            "and\n",
            "build\n",
            "his\n",
            "house\n",
            "with\n",
            "bricks\n",
            "it\n",
            "be\n",
            "a\n",
            "sturdy\n",
            "house\n",
            "complete\n",
            "with\n",
            "a\n",
            "fine\n",
            "fireplace\n",
            "and\n",
            "chimney\n",
            "it\n",
            "look\n",
            "like\n",
            "it\n",
            "could\n",
            "withstand\n",
            "the\n",
            "strongest\n",
            "wind\n"
          ],
          "name": "stdout"
        }
      ]
    },
    {
      "cell_type": "markdown",
      "metadata": {
        "id": "MkupLeaA-7ZV"
      },
      "source": [
        "**pos** **tagging**"
      ]
    },
    {
      "cell_type": "code",
      "metadata": {
        "id": "tKvYF9InAOh4",
        "colab": {
          "base_uri": "https://localhost:8080/",
          "height": 68
        },
        "outputId": "5cd23e88-39e9-49a6-ad85-3dcbe4983baf"
      },
      "source": [
        "nltk.download('averaged_perceptron_tagger')\n",
        "from nltk.tag import pos_tag\n"
      ],
      "execution_count": null,
      "outputs": [
        {
          "output_type": "stream",
          "text": [
            "[nltk_data] Downloading package averaged_perceptron_tagger to\n",
            "[nltk_data]     /root/nltk_data...\n",
            "[nltk_data]   Unzipping taggers/averaged_perceptron_tagger.zip.\n"
          ],
          "name": "stdout"
        }
      ]
    },
    {
      "cell_type": "code",
      "metadata": {
        "id": "ODipmV6i-42y",
        "colab": {
          "base_uri": "https://localhost:8080/",
          "height": 54
        },
        "outputId": "3851e183-ca16-41da-e122-4e4947f9c8df"
      },
      "source": [
        "\n",
        "tag = nltk.pos_tag(lemmatize)\n",
        "print (tag)"
      ],
      "execution_count": null,
      "outputs": [
        {
          "output_type": "stream",
          "text": [
            "[('once', 'RB'), ('upon', 'IN'), ('a', 'DT'), ('time', 'NN'), ('there', 'EX'), ('was', 'VBD'), ('an', 'DT'), ('old', 'JJ'), ('mother', 'NN'), ('pig', 'NN'), ('who', 'WP'), ('had', 'VBD'), ('three', 'CD'), ('little', 'JJ'), ('pigs', 'NNS'), ('and', 'CC'), ('not', 'RB'), ('enough', 'RB'), ('food', 'NN'), ('to', 'TO'), ('feed', 'VB'), ('them', 'PRP'), ('so', 'RB'), ('when', 'WRB'), ('they', 'PRP'), ('were', 'VBD'), ('old', 'JJ'), ('enough', 'JJ'), ('she', 'PRP'), ('sent', 'VBD'), ('them', 'PRP'), ('out', 'RP'), ('into', 'IN'), ('the', 'DT'), ('world', 'NN'), ('to', 'TO'), ('seek', 'VB'), ('their', 'PRP$'), ('fortunes', 'NNS'), ('the', 'DT'), ('first', 'JJ'), ('little', 'JJ'), ('pig', 'NN'), ('was', 'VBD'), ('very', 'RB'), ('lazy', 'JJ'), ('he', 'PRP'), ('did', 'VBD'), ('want', 'VB'), ('to', 'TO'), ('work', 'VB'), ('at', 'IN'), ('all', 'DT'), ('and', 'CC'), ('he', 'PRP'), ('built', 'VBD'), ('his', 'PRP$'), ('house', 'NN'), ('out', 'IN'), ('of', 'IN'), ('straw', 'JJ'), ('the', 'DT'), ('second', 'JJ'), ('little', 'JJ'), ('pig', 'NN'), ('worked', 'VBD'), ('a', 'DT'), ('little', 'JJ'), ('bit', 'NN'), ('harder', 'RBR'), ('but', 'CC'), ('he', 'PRP'), ('was', 'VBD'), ('somewhat', 'RB'), ('lazy', 'JJ'), ('too', 'RB'), ('and', 'CC'), ('he', 'PRP'), ('built', 'VBD'), ('his', 'PRP$'), ('house', 'NN'), ('out', 'IN'), ('of', 'IN'), ('sticks', 'NNS'), ('then', 'RB'), ('they', 'PRP'), ('sang', 'VBP'), ('and', 'CC'), ('danced', 'VBD'), ('and', 'CC'), ('played', 'VBD'), ('together', 'RB'), ('the', 'DT'), ('rest', 'NN'), ('of', 'IN'), ('the', 'DT'), ('day', 'NN'), ('the', 'DT'), ('third', 'JJ'), ('little', 'JJ'), ('pig', 'NN'), ('worked', 'VBD'), ('hard', 'JJ'), ('all', 'DT'), ('day', 'NN'), ('and', 'CC'), ('built', 'VBD'), ('his', 'PRP$'), ('house', 'NN'), ('with', 'IN'), ('bricks', 'NNS'), ('it', 'PRP'), ('was', 'VBD'), ('a', 'DT'), ('sturdy', 'JJ'), ('house', 'NN'), ('complete', 'JJ'), ('with', 'IN'), ('a', 'DT'), ('fine', 'JJ'), ('fireplace', 'NN'), ('and', 'CC'), ('chimney', 'NN'), ('it', 'PRP'), ('looked', 'VBD'), ('like', 'IN'), ('it', 'PRP'), ('could', 'MD'), ('withstand', 'VB'), ('the', 'DT'), ('strongest', 'JJS'), ('winds', 'NNS')]\n"
          ],
          "name": "stdout"
        }
      ]
    },
    {
      "cell_type": "code",
      "metadata": {
        "id": "jQm-Wa5XGAh5",
        "colab": {
          "base_uri": "https://localhost:8080/",
          "height": 119
        },
        "outputId": "9b097b6a-dd0f-4726-96f8-4b0643661305"
      },
      "source": [
        "nltk.download('maxent_ne_chunker')\n",
        "nltk.download('words')"
      ],
      "execution_count": null,
      "outputs": [
        {
          "output_type": "stream",
          "text": [
            "[nltk_data] Downloading package maxent_ne_chunker to\n",
            "[nltk_data]     /root/nltk_data...\n",
            "[nltk_data]   Unzipping chunkers/maxent_ne_chunker.zip.\n",
            "[nltk_data] Downloading package words to /root/nltk_data...\n",
            "[nltk_data]   Unzipping corpora/words.zip.\n"
          ],
          "name": "stdout"
        },
        {
          "output_type": "execute_result",
          "data": {
            "text/plain": [
              "True"
            ]
          },
          "metadata": {
            "tags": []
          },
          "execution_count": 22
        }
      ]
    },
    {
      "cell_type": "code",
      "metadata": {
        "id": "4ox3rOx2DE_p",
        "colab": {
          "base_uri": "https://localhost:8080/",
          "height": 1000
        },
        "outputId": "fb8f6b6f-7c26-49a7-bb93-d01fdb193446"
      },
      "source": [
        "N_E_R = nltk.ne_chunk(tag,binary=True)\n",
        "print(N_E_R)\n",
        "N_E_R.draw"
      ],
      "execution_count": null,
      "outputs": [
        {
          "output_type": "stream",
          "text": [
            "(S\n",
            "  once/RB\n",
            "  upon/IN\n",
            "  a/DT\n",
            "  time/NN\n",
            "  there/EX\n",
            "  was/VBD\n",
            "  an/DT\n",
            "  old/JJ\n",
            "  mother/NN\n",
            "  pig/NN\n",
            "  who/WP\n",
            "  had/VBD\n",
            "  three/CD\n",
            "  little/JJ\n",
            "  pigs/NNS\n",
            "  and/CC\n",
            "  not/RB\n",
            "  enough/RB\n",
            "  food/NN\n",
            "  to/TO\n",
            "  feed/VB\n",
            "  them/PRP\n",
            "  so/RB\n",
            "  when/WRB\n",
            "  they/PRP\n",
            "  were/VBD\n",
            "  old/JJ\n",
            "  enough/JJ\n",
            "  she/PRP\n",
            "  sent/VBD\n",
            "  them/PRP\n",
            "  out/RP\n",
            "  into/IN\n",
            "  the/DT\n",
            "  world/NN\n",
            "  to/TO\n",
            "  seek/VB\n",
            "  their/PRP$\n",
            "  fortunes/NNS\n",
            "  the/DT\n",
            "  first/JJ\n",
            "  little/JJ\n",
            "  pig/NN\n",
            "  was/VBD\n",
            "  very/RB\n",
            "  lazy/JJ\n",
            "  he/PRP\n",
            "  did/VBD\n",
            "  want/VB\n",
            "  to/TO\n",
            "  work/VB\n",
            "  at/IN\n",
            "  all/DT\n",
            "  and/CC\n",
            "  he/PRP\n",
            "  built/VBD\n",
            "  his/PRP$\n",
            "  house/NN\n",
            "  out/IN\n",
            "  of/IN\n",
            "  straw/JJ\n",
            "  the/DT\n",
            "  second/JJ\n",
            "  little/JJ\n",
            "  pig/NN\n",
            "  worked/VBD\n",
            "  a/DT\n",
            "  little/JJ\n",
            "  bit/NN\n",
            "  harder/RBR\n",
            "  but/CC\n",
            "  he/PRP\n",
            "  was/VBD\n",
            "  somewhat/RB\n",
            "  lazy/JJ\n",
            "  too/RB\n",
            "  and/CC\n",
            "  he/PRP\n",
            "  built/VBD\n",
            "  his/PRP$\n",
            "  house/NN\n",
            "  out/IN\n",
            "  of/IN\n",
            "  sticks/NNS\n",
            "  then/RB\n",
            "  they/PRP\n",
            "  sang/VBP\n",
            "  and/CC\n",
            "  danced/VBD\n",
            "  and/CC\n",
            "  played/VBD\n",
            "  together/RB\n",
            "  the/DT\n",
            "  rest/NN\n",
            "  of/IN\n",
            "  the/DT\n",
            "  day/NN\n",
            "  the/DT\n",
            "  third/JJ\n",
            "  little/JJ\n",
            "  pig/NN\n",
            "  worked/VBD\n",
            "  hard/JJ\n",
            "  all/DT\n",
            "  day/NN\n",
            "  and/CC\n",
            "  built/VBD\n",
            "  his/PRP$\n",
            "  house/NN\n",
            "  with/IN\n",
            "  bricks/NNS\n",
            "  it/PRP\n",
            "  was/VBD\n",
            "  a/DT\n",
            "  sturdy/JJ\n",
            "  house/NN\n",
            "  complete/JJ\n",
            "  with/IN\n",
            "  a/DT\n",
            "  fine/JJ\n",
            "  fireplace/NN\n",
            "  and/CC\n",
            "  chimney/NN\n",
            "  it/PRP\n",
            "  looked/VBD\n",
            "  like/IN\n",
            "  it/PRP\n",
            "  could/MD\n",
            "  withstand/VB\n",
            "  the/DT\n",
            "  strongest/JJS\n",
            "  winds/NNS)\n"
          ],
          "name": "stdout"
        },
        {
          "output_type": "execute_result",
          "data": {
            "text/plain": [
              "<bound method Tree.draw of Tree('S', [('once', 'RB'), ('upon', 'IN'), ('a', 'DT'), ('time', 'NN'), ('there', 'EX'), ('was', 'VBD'), ('an', 'DT'), ('old', 'JJ'), ('mother', 'NN'), ('pig', 'NN'), ('who', 'WP'), ('had', 'VBD'), ('three', 'CD'), ('little', 'JJ'), ('pigs', 'NNS'), ('and', 'CC'), ('not', 'RB'), ('enough', 'RB'), ('food', 'NN'), ('to', 'TO'), ('feed', 'VB'), ('them', 'PRP'), ('so', 'RB'), ('when', 'WRB'), ('they', 'PRP'), ('were', 'VBD'), ('old', 'JJ'), ('enough', 'JJ'), ('she', 'PRP'), ('sent', 'VBD'), ('them', 'PRP'), ('out', 'RP'), ('into', 'IN'), ('the', 'DT'), ('world', 'NN'), ('to', 'TO'), ('seek', 'VB'), ('their', 'PRP$'), ('fortunes', 'NNS'), ('the', 'DT'), ('first', 'JJ'), ('little', 'JJ'), ('pig', 'NN'), ('was', 'VBD'), ('very', 'RB'), ('lazy', 'JJ'), ('he', 'PRP'), ('did', 'VBD'), ('want', 'VB'), ('to', 'TO'), ('work', 'VB'), ('at', 'IN'), ('all', 'DT'), ('and', 'CC'), ('he', 'PRP'), ('built', 'VBD'), ('his', 'PRP$'), ('house', 'NN'), ('out', 'IN'), ('of', 'IN'), ('straw', 'JJ'), ('the', 'DT'), ('second', 'JJ'), ('little', 'JJ'), ('pig', 'NN'), ('worked', 'VBD'), ('a', 'DT'), ('little', 'JJ'), ('bit', 'NN'), ('harder', 'RBR'), ('but', 'CC'), ('he', 'PRP'), ('was', 'VBD'), ('somewhat', 'RB'), ('lazy', 'JJ'), ('too', 'RB'), ('and', 'CC'), ('he', 'PRP'), ('built', 'VBD'), ('his', 'PRP$'), ('house', 'NN'), ('out', 'IN'), ('of', 'IN'), ('sticks', 'NNS'), ('then', 'RB'), ('they', 'PRP'), ('sang', 'VBP'), ('and', 'CC'), ('danced', 'VBD'), ('and', 'CC'), ('played', 'VBD'), ('together', 'RB'), ('the', 'DT'), ('rest', 'NN'), ('of', 'IN'), ('the', 'DT'), ('day', 'NN'), ('the', 'DT'), ('third', 'JJ'), ('little', 'JJ'), ('pig', 'NN'), ('worked', 'VBD'), ('hard', 'JJ'), ('all', 'DT'), ('day', 'NN'), ('and', 'CC'), ('built', 'VBD'), ('his', 'PRP$'), ('house', 'NN'), ('with', 'IN'), ('bricks', 'NNS'), ('it', 'PRP'), ('was', 'VBD'), ('a', 'DT'), ('sturdy', 'JJ'), ('house', 'NN'), ('complete', 'JJ'), ('with', 'IN'), ('a', 'DT'), ('fine', 'JJ'), ('fireplace', 'NN'), ('and', 'CC'), ('chimney', 'NN'), ('it', 'PRP'), ('looked', 'VBD'), ('like', 'IN'), ('it', 'PRP'), ('could', 'MD'), ('withstand', 'VB'), ('the', 'DT'), ('strongest', 'JJS'), ('winds', 'NNS')])>"
            ]
          },
          "metadata": {
            "tags": []
          },
          "execution_count": 23
        }
      ]
    },
    {
      "cell_type": "markdown",
      "metadata": {
        "id": "rTgYByCWIb_8"
      },
      "source": [
        "**count** **vectorization**"
      ]
    },
    {
      "cell_type": "code",
      "metadata": {
        "id": "MqJLoCWfGuWb",
        "colab": {
          "base_uri": "https://localhost:8080/",
          "height": 598
        },
        "outputId": "2b230035-038f-46c8-c975-bf7a7404ed4a"
      },
      "source": [
        "from sklearn.feature_extraction.text import CountVectorizer\n",
        "\n",
        "#Create an object :\n",
        "cv = CountVectorizer()\n",
        "\n",
        "#Generating output for Bag of Words :\n",
        "B_O_W = cv.fit_transform(sentences).toarray()\n",
        "\n",
        "#Total words with their index in model :\n",
        "print(cv.vocabulary_)\n",
        "print(\"\\n\")\n",
        "\n",
        "#Features :\n",
        "print(cv.get_feature_names())\n",
        "print(\"\\n\")\n",
        "\n",
        "#Show the output :\n",
        "print(B_O_W)"
      ],
      "execution_count": null,
      "outputs": [
        {
          "output_type": "stream",
          "text": [
            "{'once': 37, 'upon': 66, 'time': 62, 'there': 58, 'was': 69, 'an': 1, 'old': 36, 'mother': 33, 'pig': 39, 'who': 72, 'had': 21, 'three': 61, 'little': 31, 'pigs': 40, 'and': 2, 'not': 34, 'enough': 14, 'food': 19, 'to': 63, 'feed': 15, 'them': 56, 'so': 48, 'when': 71, 'they': 59, 'were': 70, 'she': 47, 'sent': 46, 'out': 38, 'into': 27, 'the': 54, 'world': 78, 'seek': 45, 'their': 55, 'fortunes': 20, 'first': 18, 'very': 67, 'lazy': 29, 'he': 24, 'didn': 13, 'want': 68, 'work': 76, 'at': 3, 'all': 0, 'built': 6, 'his': 25, 'house': 26, 'of': 35, 'straw': 51, 'second': 44, 'worked': 77, 'bit': 4, 'harder': 23, 'but': 7, 'somewhat': 49, 'too': 65, 'sticks': 50, 'then': 57, 'sang': 43, 'danced': 11, 'played': 41, 'together': 64, 'rest': 42, 'day': 12, 'third': 60, 'hard': 22, 'with': 74, 'bricks': 5, 'it': 28, 'sturdy': 53, 'complete': 9, 'fine': 16, 'fireplace': 17, 'chimney': 8, 'looked': 32, 'like': 30, 'could': 10, 'withstand': 75, 'strongest': 52, 'winds': 73}\n",
            "\n",
            "\n",
            "['all', 'an', 'and', 'at', 'bit', 'bricks', 'built', 'but', 'chimney', 'complete', 'could', 'danced', 'day', 'didn', 'enough', 'feed', 'fine', 'fireplace', 'first', 'food', 'fortunes', 'had', 'hard', 'harder', 'he', 'his', 'house', 'into', 'it', 'lazy', 'like', 'little', 'looked', 'mother', 'not', 'of', 'old', 'once', 'out', 'pig', 'pigs', 'played', 'rest', 'sang', 'second', 'seek', 'sent', 'she', 'so', 'somewhat', 'sticks', 'straw', 'strongest', 'sturdy', 'the', 'their', 'them', 'then', 'there', 'they', 'third', 'three', 'time', 'to', 'together', 'too', 'upon', 'very', 'want', 'was', 'were', 'when', 'who', 'winds', 'with', 'withstand', 'work', 'worked', 'world']\n",
            "\n",
            "\n",
            "[[0 1 1 0 0 0 0 0 0 0 0 0 0 0 1 1 0 0 0 1 0 1 0 0 0 0 0 0 0 0 0 1 0 1 1 0\n",
            "  1 1 0 1 1 0 0 0 0 0 0 0 0 0 0 0 0 0 0 0 1 0 1 0 0 1 1 1 0 0 1 0 0 1 0 0\n",
            "  1 0 0 0 0 0 0]\n",
            " [0 0 0 0 0 0 0 0 0 0 0 0 0 0 1 0 0 0 0 0 1 0 0 0 0 0 0 1 0 0 0 0 0 0 0 0\n",
            "  1 0 1 0 0 0 0 0 0 1 1 1 1 0 0 0 0 0 1 1 1 0 0 1 0 0 0 1 0 0 0 0 0 0 1 1\n",
            "  0 0 0 0 0 0 1]\n",
            " [0 0 0 0 0 0 0 0 0 0 0 0 0 0 0 0 0 0 1 0 0 0 0 0 0 0 0 0 0 1 0 1 0 0 0 0\n",
            "  0 0 0 1 0 0 0 0 0 0 0 0 0 0 0 0 0 0 1 0 0 0 0 0 0 0 0 0 0 0 0 1 0 1 0 0\n",
            "  0 0 0 0 0 0 0]\n",
            " [1 0 1 1 0 0 1 0 0 0 0 0 0 1 0 0 0 0 0 0 0 0 0 0 2 1 1 0 0 0 0 0 0 0 0 1\n",
            "  0 0 1 0 0 0 0 0 0 0 0 0 0 0 0 1 0 0 0 0 0 0 0 0 0 0 0 1 0 0 0 0 1 0 0 0\n",
            "  0 0 0 0 1 0 0]\n",
            " [0 0 1 0 1 0 1 1 0 0 0 0 0 0 0 0 0 0 0 0 0 0 0 1 2 1 1 0 0 1 0 2 0 0 0 1\n",
            "  0 0 1 1 0 0 0 0 1 0 0 0 0 1 1 0 0 0 1 0 0 0 0 0 0 0 0 0 0 1 0 0 0 1 0 0\n",
            "  0 0 0 0 0 1 0]\n",
            " [0 0 2 0 0 0 0 0 0 0 0 1 1 0 0 0 0 0 0 0 0 0 0 0 0 0 0 0 0 0 0 0 0 0 0 1\n",
            "  0 0 0 0 0 1 1 1 0 0 0 0 0 0 0 0 0 0 2 0 0 1 0 1 0 0 0 0 1 0 0 0 0 0 0 0\n",
            "  0 0 0 0 0 0 0]\n",
            " [1 0 1 0 0 1 1 0 0 0 0 0 1 0 0 0 0 0 0 0 0 0 1 0 0 1 1 0 0 0 0 1 0 0 0 0\n",
            "  0 0 0 1 0 0 0 0 0 0 0 0 0 0 0 0 0 0 1 0 0 0 0 0 1 0 0 0 0 0 0 0 0 0 0 0\n",
            "  0 0 1 0 0 1 0]\n",
            " [0 0 1 0 0 0 0 0 1 1 0 0 0 0 0 0 1 1 0 0 0 0 0 0 0 0 1 0 1 0 0 0 0 0 0 0\n",
            "  0 0 0 0 0 0 0 0 0 0 0 0 0 0 0 0 0 1 0 0 0 0 0 0 0 0 0 0 0 0 0 0 0 1 0 0\n",
            "  0 0 1 0 0 0 0]\n",
            " [0 0 0 0 0 0 0 0 0 0 1 0 0 0 0 0 0 0 0 0 0 0 0 0 0 0 0 0 2 0 1 0 1 0 0 0\n",
            "  0 0 0 0 0 0 0 0 0 0 0 0 0 0 0 0 1 0 1 0 0 0 0 0 0 0 0 0 0 0 0 0 0 0 0 0\n",
            "  0 1 0 1 0 0 0]]\n"
          ],
          "name": "stdout"
        }
      ]
    },
    {
      "cell_type": "markdown",
      "metadata": {
        "id": "vuk92dTfJIF0"
      },
      "source": [
        "**term** **frequency**"
      ]
    },
    {
      "cell_type": "code",
      "metadata": {
        "id": "hor9_aBmJHff",
        "colab": {
          "base_uri": "https://localhost:8080/",
          "height": 1000
        },
        "outputId": "391419af-8ba8-4288-c404-d3bce1fd39ec"
      },
      "source": [
        "from sklearn.feature_extraction.text import TfidfVectorizer\n",
        "\n",
        "#Create an object :\n",
        "vectorizer = TfidfVectorizer(norm = None)\n",
        "\n",
        "#Generating output for TF_IDF :\n",
        "X = vectorizer.fit_transform(sentences).toarray()\n",
        "\n",
        "#Total words with their index in model :\n",
        "print(vectorizer.vocabulary_)\n",
        "print(\"\\n\")\n",
        "\n",
        "#Features :\n",
        "print(vectorizer.get_feature_names())\n",
        "print(\"\\n\")\n",
        "\n",
        "#Show the output :\n",
        "print(X)"
      ],
      "execution_count": null,
      "outputs": [
        {
          "output_type": "stream",
          "text": [
            "{'once': 37, 'upon': 66, 'time': 62, 'there': 58, 'was': 69, 'an': 1, 'old': 36, 'mother': 33, 'pig': 39, 'who': 72, 'had': 21, 'three': 61, 'little': 31, 'pigs': 40, 'and': 2, 'not': 34, 'enough': 14, 'food': 19, 'to': 63, 'feed': 15, 'them': 56, 'so': 48, 'when': 71, 'they': 59, 'were': 70, 'she': 47, 'sent': 46, 'out': 38, 'into': 27, 'the': 54, 'world': 78, 'seek': 45, 'their': 55, 'fortunes': 20, 'first': 18, 'very': 67, 'lazy': 29, 'he': 24, 'didn': 13, 'want': 68, 'work': 76, 'at': 3, 'all': 0, 'built': 6, 'his': 25, 'house': 26, 'of': 35, 'straw': 51, 'second': 44, 'worked': 77, 'bit': 4, 'harder': 23, 'but': 7, 'somewhat': 49, 'too': 65, 'sticks': 50, 'then': 57, 'sang': 43, 'danced': 11, 'played': 41, 'together': 64, 'rest': 42, 'day': 12, 'third': 60, 'hard': 22, 'with': 74, 'bricks': 5, 'it': 28, 'sturdy': 53, 'complete': 9, 'fine': 16, 'fireplace': 17, 'chimney': 8, 'looked': 32, 'like': 30, 'could': 10, 'withstand': 75, 'strongest': 52, 'winds': 73}\n",
            "\n",
            "\n",
            "['all', 'an', 'and', 'at', 'bit', 'bricks', 'built', 'but', 'chimney', 'complete', 'could', 'danced', 'day', 'didn', 'enough', 'feed', 'fine', 'fireplace', 'first', 'food', 'fortunes', 'had', 'hard', 'harder', 'he', 'his', 'house', 'into', 'it', 'lazy', 'like', 'little', 'looked', 'mother', 'not', 'of', 'old', 'once', 'out', 'pig', 'pigs', 'played', 'rest', 'sang', 'second', 'seek', 'sent', 'she', 'so', 'somewhat', 'sticks', 'straw', 'strongest', 'sturdy', 'the', 'their', 'them', 'then', 'there', 'they', 'third', 'three', 'time', 'to', 'together', 'too', 'upon', 'very', 'want', 'was', 'were', 'when', 'who', 'winds', 'with', 'withstand', 'work', 'worked', 'world']\n",
            "\n",
            "\n",
            "[[0.         2.60943791 1.35667494 0.         0.         0.\n",
            "  0.         0.         0.         0.         0.         0.\n",
            "  0.         0.         2.2039728  2.60943791 0.         0.\n",
            "  0.         2.60943791 0.         2.60943791 0.         0.\n",
            "  0.         0.         0.         0.         0.         0.\n",
            "  0.         1.69314718 0.         2.60943791 2.60943791 0.\n",
            "  2.2039728  2.60943791 0.         1.69314718 2.60943791 0.\n",
            "  0.         0.         0.         0.         0.         0.\n",
            "  0.         0.         0.         0.         0.         0.\n",
            "  0.         0.         2.2039728  0.         2.60943791 0.\n",
            "  0.         2.60943791 2.60943791 1.91629073 0.         0.\n",
            "  2.60943791 0.         0.         1.69314718 0.         0.\n",
            "  2.60943791 0.         0.         0.         0.         0.\n",
            "  0.        ]\n",
            " [0.         0.         0.         0.         0.         0.\n",
            "  0.         0.         0.         0.         0.         0.\n",
            "  0.         0.         2.2039728  0.         0.         0.\n",
            "  0.         0.         2.60943791 0.         0.         0.\n",
            "  0.         0.         0.         2.60943791 0.         0.\n",
            "  0.         0.         0.         0.         0.         0.\n",
            "  2.2039728  0.         1.91629073 0.         0.         0.\n",
            "  0.         0.         0.         2.60943791 2.60943791 2.60943791\n",
            "  2.60943791 0.         0.         0.         0.         0.\n",
            "  1.35667494 2.60943791 2.2039728  0.         0.         2.2039728\n",
            "  0.         0.         0.         1.91629073 0.         0.\n",
            "  0.         0.         0.         0.         2.60943791 2.60943791\n",
            "  0.         0.         0.         0.         0.         0.\n",
            "  2.60943791]\n",
            " [0.         0.         0.         0.         0.         0.\n",
            "  0.         0.         0.         0.         0.         0.\n",
            "  0.         0.         0.         0.         0.         0.\n",
            "  2.60943791 0.         0.         0.         0.         0.\n",
            "  0.         0.         0.         0.         0.         2.2039728\n",
            "  0.         1.69314718 0.         0.         0.         0.\n",
            "  0.         0.         0.         1.69314718 0.         0.\n",
            "  0.         0.         0.         0.         0.         0.\n",
            "  0.         0.         0.         0.         0.         0.\n",
            "  1.35667494 0.         0.         0.         0.         0.\n",
            "  0.         0.         0.         0.         0.         0.\n",
            "  0.         2.60943791 0.         1.69314718 0.         0.\n",
            "  0.         0.         0.         0.         0.         0.\n",
            "  0.        ]\n",
            " [2.2039728  0.         1.35667494 2.60943791 0.         0.\n",
            "  1.91629073 0.         0.         0.         0.         0.\n",
            "  0.         2.60943791 0.         0.         0.         0.\n",
            "  0.         0.         0.         0.         0.         0.\n",
            "  4.40794561 1.91629073 1.69314718 0.         0.         0.\n",
            "  0.         0.         0.         0.         0.         1.91629073\n",
            "  0.         0.         1.91629073 0.         0.         0.\n",
            "  0.         0.         0.         0.         0.         0.\n",
            "  0.         0.         0.         2.60943791 0.         0.\n",
            "  0.         0.         0.         0.         0.         0.\n",
            "  0.         0.         0.         1.91629073 0.         0.\n",
            "  0.         0.         2.60943791 0.         0.         0.\n",
            "  0.         0.         0.         0.         2.60943791 0.\n",
            "  0.        ]\n",
            " [0.         0.         1.35667494 0.         2.60943791 0.\n",
            "  1.91629073 2.60943791 0.         0.         0.         0.\n",
            "  0.         0.         0.         0.         0.         0.\n",
            "  0.         0.         0.         0.         0.         2.60943791\n",
            "  4.40794561 1.91629073 1.69314718 0.         0.         2.2039728\n",
            "  0.         3.38629436 0.         0.         0.         1.91629073\n",
            "  0.         0.         1.91629073 1.69314718 0.         0.\n",
            "  0.         0.         2.60943791 0.         0.         0.\n",
            "  0.         2.60943791 2.60943791 0.         0.         0.\n",
            "  1.35667494 0.         0.         0.         0.         0.\n",
            "  0.         0.         0.         0.         0.         2.60943791\n",
            "  0.         0.         0.         1.69314718 0.         0.\n",
            "  0.         0.         0.         0.         0.         2.2039728\n",
            "  0.        ]\n",
            " [0.         0.         2.71334989 0.         0.         0.\n",
            "  0.         0.         0.         0.         0.         2.60943791\n",
            "  2.2039728  0.         0.         0.         0.         0.\n",
            "  0.         0.         0.         0.         0.         0.\n",
            "  0.         0.         0.         0.         0.         0.\n",
            "  0.         0.         0.         0.         0.         1.91629073\n",
            "  0.         0.         0.         0.         0.         2.60943791\n",
            "  2.60943791 2.60943791 0.         0.         0.         0.\n",
            "  0.         0.         0.         0.         0.         0.\n",
            "  2.71334989 0.         0.         2.60943791 0.         2.2039728\n",
            "  0.         0.         0.         0.         2.60943791 0.\n",
            "  0.         0.         0.         0.         0.         0.\n",
            "  0.         0.         0.         0.         0.         0.\n",
            "  0.        ]\n",
            " [2.2039728  0.         1.35667494 0.         0.         2.60943791\n",
            "  1.91629073 0.         0.         0.         0.         0.\n",
            "  2.2039728  0.         0.         0.         0.         0.\n",
            "  0.         0.         0.         0.         2.60943791 0.\n",
            "  0.         1.91629073 1.69314718 0.         0.         0.\n",
            "  0.         1.69314718 0.         0.         0.         0.\n",
            "  0.         0.         0.         1.69314718 0.         0.\n",
            "  0.         0.         0.         0.         0.         0.\n",
            "  0.         0.         0.         0.         0.         0.\n",
            "  1.35667494 0.         0.         0.         0.         0.\n",
            "  2.60943791 0.         0.         0.         0.         0.\n",
            "  0.         0.         0.         0.         0.         0.\n",
            "  0.         0.         2.2039728  0.         0.         2.2039728\n",
            "  0.        ]\n",
            " [0.         0.         1.35667494 0.         0.         0.\n",
            "  0.         0.         2.60943791 2.60943791 0.         0.\n",
            "  0.         0.         0.         0.         2.60943791 2.60943791\n",
            "  0.         0.         0.         0.         0.         0.\n",
            "  0.         0.         1.69314718 0.         2.2039728  0.\n",
            "  0.         0.         0.         0.         0.         0.\n",
            "  0.         0.         0.         0.         0.         0.\n",
            "  0.         0.         0.         0.         0.         0.\n",
            "  0.         0.         0.         0.         0.         2.60943791\n",
            "  0.         0.         0.         0.         0.         0.\n",
            "  0.         0.         0.         0.         0.         0.\n",
            "  0.         0.         0.         1.69314718 0.         0.\n",
            "  0.         0.         2.2039728  0.         0.         0.\n",
            "  0.        ]\n",
            " [0.         0.         0.         0.         0.         0.\n",
            "  0.         0.         0.         0.         2.60943791 0.\n",
            "  0.         0.         0.         0.         0.         0.\n",
            "  0.         0.         0.         0.         0.         0.\n",
            "  0.         0.         0.         0.         4.40794561 0.\n",
            "  2.60943791 0.         2.60943791 0.         0.         0.\n",
            "  0.         0.         0.         0.         0.         0.\n",
            "  0.         0.         0.         0.         0.         0.\n",
            "  0.         0.         0.         0.         2.60943791 0.\n",
            "  1.35667494 0.         0.         0.         0.         0.\n",
            "  0.         0.         0.         0.         0.         0.\n",
            "  0.         0.         0.         0.         0.         0.\n",
            "  0.         2.60943791 0.         2.60943791 0.         0.\n",
            "  0.        ]]\n"
          ],
          "name": "stdout"
        }
      ]
    }
  ]
}